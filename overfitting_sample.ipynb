{
  "nbformat": 4,
  "nbformat_minor": 0,
  "metadata": {
    "colab": {
      "provenance": [],
      "authorship_tag": "ABX9TyPHhogZ3PPvHQ6c1AHU5Yzb",
      "include_colab_link": true
    },
    "kernelspec": {
      "name": "python3",
      "display_name": "Python 3"
    },
    "language_info": {
      "name": "python"
    }
  },
  "cells": [
    {
      "cell_type": "markdown",
      "metadata": {
        "id": "view-in-github",
        "colab_type": "text"
      },
      "source": [
        "<a href=\"https://colab.research.google.com/github/ronaldAlbano/machine_learning/blob/main/overfitting_sample.ipynb\" target=\"_parent\"><img src=\"https://colab.research.google.com/assets/colab-badge.svg\" alt=\"Open In Colab\"/></a>"
      ]
    },
    {
      "cell_type": "code",
      "execution_count": 1,
      "metadata": {
        "id": "xn7v8b2uulDE"
      },
      "outputs": [],
      "source": [
        "# Importing necessary libraries\n",
        "import numpy as np\n",
        "import matplotlib.pyplot as plt\n",
        "import pandas as pd\n",
        "from sklearn.model_selection import train_test_split\n",
        "from sklearn import tree\n",
        "from sklearn.metrics import confusion_matrix, precision_score, recall_score, accuracy_score\n"
      ]
    },
    {
      "cell_type": "code",
      "source": [
        "# Load the dataset\n",
        "df = pd.read_csv(\"fruit_dataset.csv\")\n",
        "\n",
        "# Display the dataset to understand its structure\n",
        "print(\"Dataset:\")\n",
        "print(df)"
      ],
      "metadata": {
        "colab": {
          "base_uri": "https://localhost:8080/"
        },
        "id": "Gr-rFksMvaQi",
        "outputId": "6b1d02bf-0ca5-45a0-e621-5da600636128"
      },
      "execution_count": 10,
      "outputs": [
        {
          "output_type": "stream",
          "name": "stdout",
          "text": [
            "Dataset:\n",
            "    fruit_label fruit_name  mass  width  height  color_score\n",
            "0             1      apple   192    8.4    7.30         0.55\n",
            "1             1      apple   180    8.0    6.80         0.59\n",
            "2             1      apple   176    7.4    7.20         0.60\n",
            "3             2   mandarin    86    6.2    4.70         0.80\n",
            "4             2   mandarin    84    6.0    4.60         0.79\n",
            "..          ...        ...   ...    ...     ...          ...\n",
            "56            4      lemon   116    5.9    8.10         0.73\n",
            "57            4      lemon   152    6.5    8.50         0.72\n",
            "58            4      lemon   118    6.1    8.10         0.70\n",
            "59            5      mango   201    7.7   10.10         0.71\n",
            "60            5      mango   209    8.1   12.11         0.78\n",
            "\n",
            "[61 rows x 6 columns]\n"
          ]
        }
      ]
    },
    {
      "cell_type": "code",
      "source": [
        "# Extracting independent (x) and dependent (y) variables\n",
        "x = df.iloc[:, 2:5].values\n",
        "y = df.iloc[:, 0].values\n",
        "print(\"Independent variables (x):\")\n",
        "print(x)\n",
        "print(\"Dependent variable (y):\")\n",
        "print(y)\n"
      ],
      "metadata": {
        "colab": {
          "base_uri": "https://localhost:8080/"
        },
        "id": "LxhOJFfEvcV6",
        "outputId": "0c154695-fbb1-4cc0-eb1e-727298a6fee5"
      },
      "execution_count": 4,
      "outputs": [
        {
          "output_type": "stream",
          "name": "stdout",
          "text": [
            "Independent variables (x):\n",
            "[[192.     8.4    7.3 ]\n",
            " [180.     8.     6.8 ]\n",
            " [176.     7.4    7.2 ]\n",
            " [ 86.     6.2    4.7 ]\n",
            " [ 84.     6.     4.6 ]\n",
            " [ 80.     5.8    4.3 ]\n",
            " [ 80.     5.9    4.3 ]\n",
            " [ 76.     5.8    4.  ]\n",
            " [178.     7.1    7.8 ]\n",
            " [172.     7.4    7.  ]\n",
            " [166.     6.9    7.3 ]\n",
            " [172.     7.1    7.6 ]\n",
            " [154.     7.     7.1 ]\n",
            " [164.     7.3    7.7 ]\n",
            " [152.     7.6    7.3 ]\n",
            " [156.     7.7    7.1 ]\n",
            " [156.     7.6    7.5 ]\n",
            " [168.     7.5    7.6 ]\n",
            " [162.     7.5    7.1 ]\n",
            " [162.     7.4    7.2 ]\n",
            " [160.     7.5    7.5 ]\n",
            " [156.     7.4    7.4 ]\n",
            " [140.     7.3    7.1 ]\n",
            " [170.     7.6    7.9 ]\n",
            " [342.     9.     9.4 ]\n",
            " [356.     9.2    9.2 ]\n",
            " [362.     9.6    9.2 ]\n",
            " [204.     7.5    9.2 ]\n",
            " [140.     6.7    7.1 ]\n",
            " [160.     7.     7.4 ]\n",
            " [158.     7.1    7.5 ]\n",
            " [210.     7.8    8.  ]\n",
            " [164.     7.2    7.  ]\n",
            " [190.     7.5    8.1 ]\n",
            " [142.     7.6    7.8 ]\n",
            " [150.     7.1    7.9 ]\n",
            " [160.     7.1    7.6 ]\n",
            " [154.     7.3    7.3 ]\n",
            " [158.     7.2    7.8 ]\n",
            " [144.     6.8    7.4 ]\n",
            " [154.     7.1    7.5 ]\n",
            " [180.     7.6    8.2 ]\n",
            " [154.     7.2    7.2 ]\n",
            " [194.     7.2   10.3 ]\n",
            " [200.     7.3   10.5 ]\n",
            " [186.     7.2    9.2 ]\n",
            " [216.     7.3   10.2 ]\n",
            " [196.     7.3    9.7 ]\n",
            " [174.     7.3   10.1 ]\n",
            " [132.     5.8    8.7 ]\n",
            " [130.     6.     8.2 ]\n",
            " [116.     6.     7.5 ]\n",
            " [118.     5.9    8.  ]\n",
            " [120.     6.     8.4 ]\n",
            " [116.     6.1    8.5 ]\n",
            " [116.     6.3    7.7 ]\n",
            " [116.     5.9    8.1 ]\n",
            " [152.     6.5    8.5 ]\n",
            " [118.     6.1    8.1 ]\n",
            " [201.     7.7   10.1 ]\n",
            " [209.     8.1   12.11]]\n",
            "Dependent variable (y):\n",
            "[1 1 1 2 2 2 2 2 1 1 1 1 1 1 1 1 1 1 1 1 1 1 1 1 3 3 3 3 3 3 3 3 3 3 3 3 3\n",
            " 3 3 3 3 3 3 4 4 4 4 4 4 4 4 4 4 4 4 4 4 4 4 5 5]\n"
          ]
        }
      ]
    },
    {
      "cell_type": "code",
      "source": [
        "# Splitting the dataset into training and testing sets\n",
        "x_train, x_test, y_train, y_test = train_test_split(x, y, test_size=0.20, random_state=0)\n",
        "print(\"Splitting done\")"
      ],
      "metadata": {
        "colab": {
          "base_uri": "https://localhost:8080/"
        },
        "id": "vFw_3x77vfjC",
        "outputId": "06eeb78e-3a14-4710-cb75-c2b0afc531c6"
      },
      "execution_count": 5,
      "outputs": [
        {
          "output_type": "stream",
          "name": "stdout",
          "text": [
            "Splitting done\n"
          ]
        }
      ]
    },
    {
      "cell_type": "code",
      "source": [
        "\n",
        "# Displaying the shapes of training and testing sets\n",
        "print(\"x train records:\", x_train.shape)\n",
        "print(\"y train records:\", y_train.shape)\n",
        "print(\"x test records:\", x_test.shape)\n",
        "print(\"y test records:\", y_test.shape)\n"
      ],
      "metadata": {
        "colab": {
          "base_uri": "https://localhost:8080/"
        },
        "id": "NpsPpR9zvkcq",
        "outputId": "0acbf254-e09f-41fa-9efa-736b37a78d08"
      },
      "execution_count": 6,
      "outputs": [
        {
          "output_type": "stream",
          "name": "stdout",
          "text": [
            "x train records: (48, 3)\n",
            "y train records: (48,)\n",
            "x test records: (13, 3)\n",
            "y test records: (13,)\n"
          ]
        }
      ]
    },
    {
      "cell_type": "code",
      "source": [
        "# Creating a Decision Tree classifier with minimum samples split as 2\n",
        "clf_2 = tree.DecisionTreeClassifier(min_samples_split=2)\n",
        "\n",
        "# Fitting the classifier to the training data\n",
        "clf_2.fit(x_train, y_train)\n",
        "\n",
        "# Making predictions on the testing data\n",
        "pred_2 = clf_2.predict(x_test)\n",
        "print(\"Predictions on test data:\")\n",
        "print(pred_2)"
      ],
      "metadata": {
        "colab": {
          "base_uri": "https://localhost:8080/"
        },
        "id": "ml5p0bhlvlgi",
        "outputId": "ac069073-30e8-4e0d-e177-c886a4cf38a8"
      },
      "execution_count": 7,
      "outputs": [
        {
          "output_type": "stream",
          "name": "stdout",
          "text": [
            "Predictions on test data:\n",
            "[3 3 3 1 3 1 1 3 3 3 2 3 3]\n"
          ]
        }
      ]
    },
    {
      "cell_type": "code",
      "source": [
        "# Making predictions on the training data\n",
        "pred_train = clf_2.predict(x_train)\n",
        "print(\"Predictions on training data:\")\n",
        "print(pred_train)"
      ],
      "metadata": {
        "colab": {
          "base_uri": "https://localhost:8080/"
        },
        "id": "3UQoSY1uvq0R",
        "outputId": "972362e8-3148-404d-da51-03a2d98234ab"
      },
      "execution_count": 8,
      "outputs": [
        {
          "output_type": "stream",
          "name": "stdout",
          "text": [
            "Predictions on training data:\n",
            "[3 3 4 4 2 1 3 4 3 3 4 1 4 3 1 2 3 1 4 1 4 1 1 3 3 1 4 4 4 3 1 1 4 3 2 1 3\n",
            " 4 1 1 1 3 4 2 1 4 4 4]\n"
          ]
        }
      ]
    },
    {
      "cell_type": "code",
      "source": [
        "# Evaluating the model's performance\n",
        "print(\"Accuracy score on test data:\", accuracy_score(y_test, pred_2))\n",
        "print(\"Accuracy score on training data:\", accuracy_score(y_train, pred_train))"
      ],
      "metadata": {
        "colab": {
          "base_uri": "https://localhost:8080/"
        },
        "id": "5FFsX-bbvtwh",
        "outputId": "c3886858-4612-4e00-c52f-81dd75013006"
      },
      "execution_count": 9,
      "outputs": [
        {
          "output_type": "stream",
          "name": "stdout",
          "text": [
            "Accuracy score on test data: 0.46153846153846156\n",
            "Accuracy score on training data: 1.0\n"
          ]
        }
      ]
    },
    {
      "cell_type": "code",
      "source": [
        "# It utilizes a Decision Tree classifier with default parameters, potentially resulting in a highly complex model that perfectly fits the training data.\n",
        "# Overfitting arises when the model excessively learns from noise or random fluctuations in the training data, hindering its generalization to unseen data."
      ],
      "metadata": {
        "id": "pzhoqgA2CwgH"
      },
      "execution_count": null,
      "outputs": []
    }
  ]
}